{
  "nbformat": 4,
  "nbformat_minor": 0,
  "metadata": {
    "colab": {
      "name": "Untitled0.ipynb",
      "version": "0.3.2",
      "provenance": [],
      "collapsed_sections": [],
      "include_colab_link": true
    },
    "kernelspec": {
      "name": "python3",
      "display_name": "Python 3"
    }
  },
  "cells": [
    {
      "cell_type": "markdown",
      "metadata": {
        "id": "view-in-github",
        "colab_type": "text"
      },
      "source": [
        "<a href=\"https://colab.research.google.com/github/Anplanescape/Industrial-Internet-notebook/blob/master/The%20triple%20realm%20of%20Industrial%20Internet.ipynb\" target=\"_parent\"><img src=\"https://colab.research.google.com/assets/colab-badge.svg\" alt=\"Open In Colab\"/></a>"
      ]
    },
    {
      "metadata": {
        "id": "JkJWr-YEcuQh",
        "colab_type": "text"
      },
      "cell_type": "markdown",
      "source": [
        ""
      ]
    },
    {
      "metadata": {
        "id": "WPDgoKw2dvE0",
        "colab_type": "text"
      },
      "cell_type": "markdown",
      "source": [
        "##THE TRIPLE REALM OF INDUSTRIAL INTERNET\n",
        ">this is from the internet and only for personal learning,any copy is not authorized.\n",
        "<br>\n",
        "***\n",
        "In history IT techbology is being used to develop the information and digital portal.From the process,we can conclude to three steps:Business process inside,Manufacturing service integration outside,external phase of industry Platform empowerment\n",
        "***\n",
        "####QUIET JAPAN MANUFACTURING\n",
        "Japanese seems doing a project of machine + IOT step by step.Industrial internet is something for better manufacturing,just like a more efficient tool.\n",
        "####THE TRIPLE REALM OF INDUSTRIAL INTERNET\n",
        "It is a good way to push the digitization of a company.It combines  the IOT,DATA analysis and IT.\n",
        "<br>In the other hand,treating internalization/externalization/plug-in as the a same thing will cause big loss.\n",
        "####German-a way on is worth learning\n",
        "Industry 4.0 opportunity comes to German companies for them to make  new national brand.\n",
        "<br>Alliance of some companies combine all things and technology together and build the global standard\n"
      ]
    }
  ]
}